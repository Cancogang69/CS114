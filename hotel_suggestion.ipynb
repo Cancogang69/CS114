{
  "cells": [
    {
      "cell_type": "code",
      "execution_count": 1,
      "metadata": {
        "colab": {
          "base_uri": "https://localhost:8080/"
        },
        "id": "WjnfLUfXSP3K",
        "outputId": "dcb140df-3fd1-4cab-aa9c-88a28710a05d"
      },
      "outputs": [
        {
          "ename": "ModuleNotFoundError",
          "evalue": "No module named 'google.colab'",
          "output_type": "error",
          "traceback": [
            "\u001b[1;31m---------------------------------------------------------------------------\u001b[0m",
            "\u001b[1;31mModuleNotFoundError\u001b[0m                       Traceback (most recent call last)",
            "Cell \u001b[1;32mIn[1], line 1\u001b[0m\n\u001b[1;32m----> 1\u001b[0m \u001b[38;5;28;01mfrom\u001b[39;00m \u001b[38;5;21;01mgoogle\u001b[39;00m\u001b[38;5;21;01m.\u001b[39;00m\u001b[38;5;21;01mcolab\u001b[39;00m \u001b[38;5;28;01mimport\u001b[39;00m drive\n\u001b[0;32m      2\u001b[0m drive\u001b[38;5;241m.\u001b[39mmount(\u001b[38;5;124m'\u001b[39m\u001b[38;5;124m/content/drive\u001b[39m\u001b[38;5;124m'\u001b[39m)\n",
            "\u001b[1;31mModuleNotFoundError\u001b[0m: No module named 'google.colab'"
          ]
        }
      ],
      "source": [
        "from google.colab import drive\n",
        "drive.mount('/content/drive')"
      ]
    },
    {
      "cell_type": "code",
      "execution_count": 40,
      "metadata": {
        "id": "t21GSZ3_emot"
      },
      "outputs": [],
      "source": [
        "import pandas as pd\n",
        "import numpy as np\n",
        "import matplotlib.pyplot as plt\n",
        "from sklearn.preprocessing import StandardScaler\n",
        "from sklearn.linear_model import LinearRegression\n",
        "from sklearn.metrics import mean_squared_error, mean_absolute_error\n",
        "from sklearn.svm import LinearSVR\n",
        "from sklearn.svm import SVR\n",
        "from sklearn.model_selection import GridSearchCV\n",
        "from sklearn.ensemble import RandomForestRegressor\n",
        "from sklearn.decomposition import PCA\n",
        "import xgboost\n",
        "from xgboost.sklearn import XGBRegressor\n",
        "import seaborn as sns\n",
        "import joblib\n",
        "import os"
      ]
    },
    {
      "cell_type": "code",
      "execution_count": 101,
      "metadata": {},
      "outputs": [],
      "source": [
        "random_state = 69\n",
        "save_path = './models'"
      ]
    },
    {
      "cell_type": "code",
      "execution_count": 3,
      "metadata": {
        "id": "NJsR0TRQebXk"
      },
      "outputs": [],
      "source": [
        "data_train= pd.read_csv('./data/train.csv')\n",
        "data_test = pd.read_csv('./data/test.csv')"
      ]
    },
    {
      "cell_type": "code",
      "execution_count": 3,
      "metadata": {
        "colab": {
          "base_uri": "https://localhost:8080/",
          "height": 323
        },
        "id": "KGqIr3bYkdX_",
        "outputId": "98bcfc5e-0cea-4796-b6f6-17e0e5747ba9"
      },
      "outputs": [
        {
          "data": {
            "text/html": [
              "<div>\n",
              "<style scoped>\n",
              "    .dataframe tbody tr th:only-of-type {\n",
              "        vertical-align: middle;\n",
              "    }\n",
              "\n",
              "    .dataframe tbody tr th {\n",
              "        vertical-align: top;\n",
              "    }\n",
              "\n",
              "    .dataframe thead th {\n",
              "        text-align: right;\n",
              "    }\n",
              "</style>\n",
              "<table border=\"1\" class=\"dataframe\">\n",
              "  <thead>\n",
              "    <tr style=\"text-align: right;\">\n",
              "      <th></th>\n",
              "      <th>Hotel_Address</th>\n",
              "      <th>Average_Score</th>\n",
              "      <th>Hotel_Name</th>\n",
              "      <th>Negative_Review</th>\n",
              "      <th>Positive_Review</th>\n",
              "      <th>Reviewer_Score</th>\n",
              "      <th>Tags</th>\n",
              "      <th>Hotel_Nation</th>\n",
              "      <th>Negative_Review_Nouns</th>\n",
              "      <th>Positive_Review_Nouns</th>\n",
              "      <th>...</th>\n",
              "      <th>Customer_Location</th>\n",
              "      <th>Customer_Service</th>\n",
              "      <th>Customer_Room</th>\n",
              "      <th>Customer_F&amp;A</th>\n",
              "      <th>Customer_Meal</th>\n",
              "      <th>trip_type</th>\n",
              "      <th>room_type</th>\n",
              "      <th>travel_type</th>\n",
              "      <th>stayed_time</th>\n",
              "      <th>room_size</th>\n",
              "    </tr>\n",
              "  </thead>\n",
              "  <tbody>\n",
              "    <tr>\n",
              "      <th>0</th>\n",
              "      <td>11 Cadogan Gardens Sloane Square Kensington an...</td>\n",
              "      <td>8.7</td>\n",
              "      <td>11 Cadogan Gardens</td>\n",
              "      <td>empty</td>\n",
              "      <td>The staff are so friendly and helpful</td>\n",
              "      <td>10.0</td>\n",
              "      <td>leisure trip ,  solo traveler ,  superior quee...</td>\n",
              "      <td>UK</td>\n",
              "      <td>empty</td>\n",
              "      <td>staff</td>\n",
              "      <td>...</td>\n",
              "      <td>0.00</td>\n",
              "      <td>1.0000</td>\n",
              "      <td>0.0</td>\n",
              "      <td>0.000</td>\n",
              "      <td>0.0000</td>\n",
              "      <td>1</td>\n",
              "      <td>5</td>\n",
              "      <td>1</td>\n",
              "      <td>2</td>\n",
              "      <td>6</td>\n",
              "    </tr>\n",
              "    <tr>\n",
              "      <th>1</th>\n",
              "      <td>11 Cadogan Gardens Sloane Square Kensington an...</td>\n",
              "      <td>8.7</td>\n",
              "      <td>11 Cadogan Gardens</td>\n",
              "      <td>Sadly the day of my presentation the woman on...</td>\n",
              "      <td>The room and location were absolutely brillia...</td>\n",
              "      <td>9.6</td>\n",
              "      <td>business trip ,  solo traveler ,  superior que...</td>\n",
              "      <td>UK</td>\n",
              "      <td>day presentation woman desk note inbox driver ...</td>\n",
              "      <td>room location staff way bit bathroom snob touc...</td>\n",
              "      <td>...</td>\n",
              "      <td>0.40</td>\n",
              "      <td>0.0000</td>\n",
              "      <td>0.2</td>\n",
              "      <td>0.200</td>\n",
              "      <td>0.2000</td>\n",
              "      <td>0</td>\n",
              "      <td>5</td>\n",
              "      <td>1</td>\n",
              "      <td>6</td>\n",
              "      <td>6</td>\n",
              "    </tr>\n",
              "    <tr>\n",
              "      <th>2</th>\n",
              "      <td>11 Cadogan Gardens Sloane Square Kensington an...</td>\n",
              "      <td>8.7</td>\n",
              "      <td>11 Cadogan Gardens</td>\n",
              "      <td>empty</td>\n",
              "      <td>The whole experience from start to finish was...</td>\n",
              "      <td>10.0</td>\n",
              "      <td>leisure trip ,  couple ,  deluxe king room ,  ...</td>\n",
              "      <td>UK</td>\n",
              "      <td>empty</td>\n",
              "      <td>experience start finish service none room brea...</td>\n",
              "      <td>...</td>\n",
              "      <td>0.00</td>\n",
              "      <td>0.6000</td>\n",
              "      <td>0.2</td>\n",
              "      <td>0.000</td>\n",
              "      <td>0.2000</td>\n",
              "      <td>1</td>\n",
              "      <td>6</td>\n",
              "      <td>2</td>\n",
              "      <td>1</td>\n",
              "      <td>5</td>\n",
              "    </tr>\n",
              "    <tr>\n",
              "      <th>3</th>\n",
              "      <td>11 Cadogan Gardens Sloane Square Kensington an...</td>\n",
              "      <td>8.7</td>\n",
              "      <td>11 Cadogan Gardens</td>\n",
              "      <td>Still under renovation so building noise stil...</td>\n",
              "      <td>Breakfast amazing location perfect for west e...</td>\n",
              "      <td>8.3</td>\n",
              "      <td>leisure trip ,  couple ,  deluxe king room ,  ...</td>\n",
              "      <td>UK</td>\n",
              "      <td>renovation building noise problem outside</td>\n",
              "      <td>breakfast location west end king road area</td>\n",
              "      <td>...</td>\n",
              "      <td>0.50</td>\n",
              "      <td>-0.2500</td>\n",
              "      <td>0.0</td>\n",
              "      <td>0.000</td>\n",
              "      <td>0.2500</td>\n",
              "      <td>1</td>\n",
              "      <td>6</td>\n",
              "      <td>2</td>\n",
              "      <td>1</td>\n",
              "      <td>5</td>\n",
              "    </tr>\n",
              "    <tr>\n",
              "      <th>4</th>\n",
              "      <td>11 Cadogan Gardens Sloane Square Kensington an...</td>\n",
              "      <td>8.7</td>\n",
              "      <td>11 Cadogan Gardens</td>\n",
              "      <td>The renovations were still on going and I tho...</td>\n",
              "      <td>Staff amazing very helpful and couldn t have ...</td>\n",
              "      <td>7.1</td>\n",
              "      <td>leisure trip ,  group ,  superior queen room ,...</td>\n",
              "      <td>UK</td>\n",
              "      <td>renovation december january sound drilling bre...</td>\n",
              "      <td>staff</td>\n",
              "      <td>...</td>\n",
              "      <td>-0.25</td>\n",
              "      <td>-0.0625</td>\n",
              "      <td>-0.5</td>\n",
              "      <td>-0.125</td>\n",
              "      <td>-0.0625</td>\n",
              "      <td>1</td>\n",
              "      <td>5</td>\n",
              "      <td>3</td>\n",
              "      <td>2</td>\n",
              "      <td>6</td>\n",
              "    </tr>\n",
              "  </tbody>\n",
              "</table>\n",
              "<p>5 rows × 25 columns</p>\n",
              "</div>"
            ],
            "text/plain": [
              "                                       Hotel_Address  Average_Score  \\\n",
              "0  11 Cadogan Gardens Sloane Square Kensington an...            8.7   \n",
              "1  11 Cadogan Gardens Sloane Square Kensington an...            8.7   \n",
              "2  11 Cadogan Gardens Sloane Square Kensington an...            8.7   \n",
              "3  11 Cadogan Gardens Sloane Square Kensington an...            8.7   \n",
              "4  11 Cadogan Gardens Sloane Square Kensington an...            8.7   \n",
              "\n",
              "           Hotel_Name                                    Negative_Review  \\\n",
              "0  11 Cadogan Gardens                                              empty   \n",
              "1  11 Cadogan Gardens   Sadly the day of my presentation the woman on...   \n",
              "2  11 Cadogan Gardens                                              empty   \n",
              "3  11 Cadogan Gardens   Still under renovation so building noise stil...   \n",
              "4  11 Cadogan Gardens   The renovations were still on going and I tho...   \n",
              "\n",
              "                                     Positive_Review  Reviewer_Score  \\\n",
              "0              The staff are so friendly and helpful            10.0   \n",
              "1   The room and location were absolutely brillia...             9.6   \n",
              "2   The whole experience from start to finish was...            10.0   \n",
              "3   Breakfast amazing location perfect for west e...             8.3   \n",
              "4   Staff amazing very helpful and couldn t have ...             7.1   \n",
              "\n",
              "                                                Tags Hotel_Nation  \\\n",
              "0  leisure trip ,  solo traveler ,  superior quee...           UK   \n",
              "1  business trip ,  solo traveler ,  superior que...           UK   \n",
              "2  leisure trip ,  couple ,  deluxe king room ,  ...           UK   \n",
              "3  leisure trip ,  couple ,  deluxe king room ,  ...           UK   \n",
              "4  leisure trip ,  group ,  superior queen room ,...           UK   \n",
              "\n",
              "                               Negative_Review_Nouns  \\\n",
              "0                                              empty   \n",
              "1  day presentation woman desk note inbox driver ...   \n",
              "2                                              empty   \n",
              "3          renovation building noise problem outside   \n",
              "4  renovation december january sound drilling bre...   \n",
              "\n",
              "                               Positive_Review_Nouns  ...  Customer_Location  \\\n",
              "0                                              staff  ...               0.00   \n",
              "1  room location staff way bit bathroom snob touc...  ...               0.40   \n",
              "2  experience start finish service none room brea...  ...               0.00   \n",
              "3         breakfast location west end king road area  ...               0.50   \n",
              "4                                              staff  ...              -0.25   \n",
              "\n",
              "   Customer_Service  Customer_Room  Customer_F&A  Customer_Meal  trip_type  \\\n",
              "0            1.0000            0.0         0.000         0.0000          1   \n",
              "1            0.0000            0.2         0.200         0.2000          0   \n",
              "2            0.6000            0.2         0.000         0.2000          1   \n",
              "3           -0.2500            0.0         0.000         0.2500          1   \n",
              "4           -0.0625           -0.5        -0.125        -0.0625          1   \n",
              "\n",
              "   room_type  travel_type  stayed_time  room_size  \n",
              "0          5            1            2          6  \n",
              "1          5            1            6          6  \n",
              "2          6            2            1          5  \n",
              "3          6            2            1          5  \n",
              "4          5            3            2          6  \n",
              "\n",
              "[5 rows x 25 columns]"
            ]
          },
          "execution_count": 3,
          "metadata": {},
          "output_type": "execute_result"
        }
      ],
      "source": [
        "data_train.head()"
      ]
    },
    {
      "cell_type": "code",
      "execution_count": 4,
      "metadata": {
        "id": "Gu_84D91lNKg"
      },
      "outputs": [],
      "source": [
        "drop_feats = [\"Hotel_Address\", \"Hotel_Name\", \"Negative_Review\", \"Positive_Review\",\n",
        "              \"Tags\", \"Hotel_Nation\", \"Negative_Review_Nouns\", \"Positive_Review_Nouns\", \"Reviewer_Score\"]\n",
        "x_train = data_train.drop(columns=drop_feats)\n",
        "y_train = data_train['Reviewer_Score']\n",
        "x_test = data_test.drop(columns=drop_feats)\n",
        "y_test = data_test['Reviewer_Score']"
      ]
    },
    {
      "cell_type": "code",
      "execution_count": 53,
      "metadata": {},
      "outputs": [],
      "source": [
        "x_train_baseline = data_train[\"Average_Score\"].to_numpy().reshape(-1, 1)\n",
        "x_test_baseline = data_test[\"Average_Score\"].to_numpy().reshape(-1, 1)"
      ]
    },
    {
      "cell_type": "code",
      "execution_count": 5,
      "metadata": {},
      "outputs": [],
      "source": [
        "def score(y_true, y_pred):\n",
        "  rmse = mean_squared_error(y_true, y_pred, squared=False)\n",
        "  mae =  mean_absolute_error(y_true, y_pred)\n",
        "\n",
        "  print(f'Root Mean Squared Error: {rmse}')\n",
        "  print(f'Mean Abosolute Error: {mae}')"
      ]
    },
    {
      "cell_type": "code",
      "execution_count": 71,
      "metadata": {},
      "outputs": [
        {
          "name": "stdout",
          "output_type": "stream",
          "text": [
            "Root Mean Squared Error: 1.5251887542414575\n",
            "Mean Abosolute Error: 1.1837702751470232\n"
          ]
        }
      ],
      "source": [
        "linear_baseline = LinearRegression()\n",
        "\n",
        "linear_baseline.fit(x_train_baseline, y_train)\n",
        "y_pred_baseline = linear_baseline.predict(x_test_baseline)\n",
        "score(y_test, y_pred_baseline)"
      ]
    },
    {
      "cell_type": "code",
      "execution_count": 6,
      "metadata": {},
      "outputs": [],
      "source": [
        "scaler = StandardScaler()\n",
        "x_train_scaled = scaler.fit_transform(x_train)\n",
        "x_test_scaled = scaler.transform(x_test)"
      ]
    },
    {
      "cell_type": "markdown",
      "metadata": {
        "id": "dGDkN-POnDyH"
      },
      "source": [
        "# LINEAR REGRESSION"
      ]
    },
    {
      "cell_type": "code",
      "execution_count": 19,
      "metadata": {
        "colab": {
          "base_uri": "https://localhost:8080/"
        },
        "id": "Cdb7FuQMm7Wg",
        "outputId": "5ed7b24c-3c3c-40da-cbdf-5d318f398f28"
      },
      "outputs": [
        {
          "name": "stdout",
          "output_type": "stream",
          "text": [
            "Root Mean Squared Error: 1.2935332435592957\n",
            "Mean Abosolute Error: 0.9707051544860628\n"
          ]
        }
      ],
      "source": [
        "model_linear = LinearRegression()\n",
        "\n",
        "model_linear.fit(x_train, y_train)\n",
        "y_pred = model_linear.predict(x_test)\n",
        "score(y_test, y_pred)"
      ]
    },
    {
      "cell_type": "markdown",
      "metadata": {
        "id": "SBKhVXiAqG7G"
      },
      "source": [
        "# SUPPORT VECTOR REGRESSION"
      ]
    },
    {
      "cell_type": "code",
      "execution_count": 32,
      "metadata": {},
      "outputs": [
        {
          "name": "stdout",
          "output_type": "stream",
          "text": [
            "Root Mean Squared Error: 1.3067213453712692\n",
            "Mean Abosolute Error: 0.9587736757397463\n"
          ]
        }
      ],
      "source": [
        "linearsvr = LinearSVR(dual= \"auto\", random_state=random_state, tol=1e-3)\n",
        "linearsvr.fit(x_train_scaled, y_train)\n",
        "y_pred = linearsvr.predict(x_test_scaled)\n",
        "score(y_test, y_pred)"
      ]
    },
    {
      "cell_type": "code",
      "execution_count": 33,
      "metadata": {
        "id": "YDQozHu4qJUO"
      },
      "outputs": [
        {
          "name": "stdout",
          "output_type": "stream",
          "text": [
            "Root Mean Squared Error: 1.2882986632142899\n",
            "Mean Abosolute Error: 0.9320580089349922\n"
          ]
        }
      ],
      "source": [
        "n = 100000\n",
        "model_svr2 = SVR(kernel='rbf')\n",
        "model_svr2.fit(x_train_scaled[:n], y_train[:n])\n",
        "y_pred = model_svr2.predict(x_test_scaled)\n",
        "score(y_test, y_pred)"
      ]
    },
    {
      "cell_type": "markdown",
      "metadata": {},
      "source": [
        "# RANDOM FOREST REGRESSION"
      ]
    },
    {
      "cell_type": "code",
      "execution_count": 7,
      "metadata": {},
      "outputs": [
        {
          "data": {
            "text/html": [
              "<style>#sk-container-id-1 {color: black;}#sk-container-id-1 pre{padding: 0;}#sk-container-id-1 div.sk-toggleable {background-color: white;}#sk-container-id-1 label.sk-toggleable__label {cursor: pointer;display: block;width: 100%;margin-bottom: 0;padding: 0.3em;box-sizing: border-box;text-align: center;}#sk-container-id-1 label.sk-toggleable__label-arrow:before {content: \"▸\";float: left;margin-right: 0.25em;color: #696969;}#sk-container-id-1 label.sk-toggleable__label-arrow:hover:before {color: black;}#sk-container-id-1 div.sk-estimator:hover label.sk-toggleable__label-arrow:before {color: black;}#sk-container-id-1 div.sk-toggleable__content {max-height: 0;max-width: 0;overflow: hidden;text-align: left;background-color: #f0f8ff;}#sk-container-id-1 div.sk-toggleable__content pre {margin: 0.2em;color: black;border-radius: 0.25em;background-color: #f0f8ff;}#sk-container-id-1 input.sk-toggleable__control:checked~div.sk-toggleable__content {max-height: 200px;max-width: 100%;overflow: auto;}#sk-container-id-1 input.sk-toggleable__control:checked~label.sk-toggleable__label-arrow:before {content: \"▾\";}#sk-container-id-1 div.sk-estimator input.sk-toggleable__control:checked~label.sk-toggleable__label {background-color: #d4ebff;}#sk-container-id-1 div.sk-label input.sk-toggleable__control:checked~label.sk-toggleable__label {background-color: #d4ebff;}#sk-container-id-1 input.sk-hidden--visually {border: 0;clip: rect(1px 1px 1px 1px);clip: rect(1px, 1px, 1px, 1px);height: 1px;margin: -1px;overflow: hidden;padding: 0;position: absolute;width: 1px;}#sk-container-id-1 div.sk-estimator {font-family: monospace;background-color: #f0f8ff;border: 1px dotted black;border-radius: 0.25em;box-sizing: border-box;margin-bottom: 0.5em;}#sk-container-id-1 div.sk-estimator:hover {background-color: #d4ebff;}#sk-container-id-1 div.sk-parallel-item::after {content: \"\";width: 100%;border-bottom: 1px solid gray;flex-grow: 1;}#sk-container-id-1 div.sk-label:hover label.sk-toggleable__label {background-color: #d4ebff;}#sk-container-id-1 div.sk-serial::before {content: \"\";position: absolute;border-left: 1px solid gray;box-sizing: border-box;top: 0;bottom: 0;left: 50%;z-index: 0;}#sk-container-id-1 div.sk-serial {display: flex;flex-direction: column;align-items: center;background-color: white;padding-right: 0.2em;padding-left: 0.2em;position: relative;}#sk-container-id-1 div.sk-item {position: relative;z-index: 1;}#sk-container-id-1 div.sk-parallel {display: flex;align-items: stretch;justify-content: center;background-color: white;position: relative;}#sk-container-id-1 div.sk-item::before, #sk-container-id-1 div.sk-parallel-item::before {content: \"\";position: absolute;border-left: 1px solid gray;box-sizing: border-box;top: 0;bottom: 0;left: 50%;z-index: -1;}#sk-container-id-1 div.sk-parallel-item {display: flex;flex-direction: column;z-index: 1;position: relative;background-color: white;}#sk-container-id-1 div.sk-parallel-item:first-child::after {align-self: flex-end;width: 50%;}#sk-container-id-1 div.sk-parallel-item:last-child::after {align-self: flex-start;width: 50%;}#sk-container-id-1 div.sk-parallel-item:only-child::after {width: 0;}#sk-container-id-1 div.sk-dashed-wrapped {border: 1px dashed gray;margin: 0 0.4em 0.5em 0.4em;box-sizing: border-box;padding-bottom: 0.4em;background-color: white;}#sk-container-id-1 div.sk-label label {font-family: monospace;font-weight: bold;display: inline-block;line-height: 1.2em;}#sk-container-id-1 div.sk-label-container {text-align: center;}#sk-container-id-1 div.sk-container {/* jupyter's `normalize.less` sets `[hidden] { display: none; }` but bootstrap.min.css set `[hidden] { display: none !important; }` so we also need the `!important` here to be able to override the default hidden behavior on the sphinx rendered scikit-learn.org. See: https://github.com/scikit-learn/scikit-learn/issues/21755 */display: inline-block !important;position: relative;}#sk-container-id-1 div.sk-text-repr-fallback {display: none;}</style><div id=\"sk-container-id-1\" class=\"sk-top-container\"><div class=\"sk-text-repr-fallback\"><pre>GridSearchCV(estimator=RandomForestRegressor(random_state=69),\n",
              "             param_grid={&#x27;max_depth&#x27;: [10, 15, 20],\n",
              "                         &#x27;n_estimators&#x27;: [10, 50, 100]})</pre><b>In a Jupyter environment, please rerun this cell to show the HTML representation or trust the notebook. <br />On GitHub, the HTML representation is unable to render, please try loading this page with nbviewer.org.</b></div><div class=\"sk-container\" hidden><div class=\"sk-item sk-dashed-wrapped\"><div class=\"sk-label-container\"><div class=\"sk-label sk-toggleable\"><input class=\"sk-toggleable__control sk-hidden--visually\" id=\"sk-estimator-id-1\" type=\"checkbox\" ><label for=\"sk-estimator-id-1\" class=\"sk-toggleable__label sk-toggleable__label-arrow\">GridSearchCV</label><div class=\"sk-toggleable__content\"><pre>GridSearchCV(estimator=RandomForestRegressor(random_state=69),\n",
              "             param_grid={&#x27;max_depth&#x27;: [10, 15, 20],\n",
              "                         &#x27;n_estimators&#x27;: [10, 50, 100]})</pre></div></div></div><div class=\"sk-parallel\"><div class=\"sk-parallel-item\"><div class=\"sk-item\"><div class=\"sk-label-container\"><div class=\"sk-label sk-toggleable\"><input class=\"sk-toggleable__control sk-hidden--visually\" id=\"sk-estimator-id-2\" type=\"checkbox\" ><label for=\"sk-estimator-id-2\" class=\"sk-toggleable__label sk-toggleable__label-arrow\">estimator: RandomForestRegressor</label><div class=\"sk-toggleable__content\"><pre>RandomForestRegressor(random_state=69)</pre></div></div></div><div class=\"sk-serial\"><div class=\"sk-item\"><div class=\"sk-estimator sk-toggleable\"><input class=\"sk-toggleable__control sk-hidden--visually\" id=\"sk-estimator-id-3\" type=\"checkbox\" ><label for=\"sk-estimator-id-3\" class=\"sk-toggleable__label sk-toggleable__label-arrow\">RandomForestRegressor</label><div class=\"sk-toggleable__content\"><pre>RandomForestRegressor(random_state=69)</pre></div></div></div></div></div></div></div></div></div></div>"
            ],
            "text/plain": [
              "GridSearchCV(estimator=RandomForestRegressor(random_state=69),\n",
              "             param_grid={'max_depth': [10, 15, 20],\n",
              "                         'n_estimators': [10, 50, 100]})"
            ]
          },
          "execution_count": 7,
          "metadata": {},
          "output_type": "execute_result"
        }
      ],
      "source": [
        "paremeter = {\"n_estimators\": [10, 50, 100], \"max_depth\": [10, 15, 20]}\n",
        "rfr = RandomForestRegressor(random_state=random_state)\n",
        "gcsv = GridSearchCV(rfr, paremeter)\n",
        "gcsv.fit(x_train_scaled, y_train)"
      ]
    },
    {
      "cell_type": "code",
      "execution_count": 13,
      "metadata": {},
      "outputs": [
        {
          "data": {
            "text/plain": [
              "{'max_depth': 10, 'n_estimators': 100}"
            ]
          },
          "execution_count": 13,
          "metadata": {},
          "output_type": "execute_result"
        }
      ],
      "source": [
        "gcsv.best_params_"
      ]
    },
    {
      "cell_type": "code",
      "execution_count": 15,
      "metadata": {},
      "outputs": [
        {
          "name": "stdout",
          "output_type": "stream",
          "text": [
            "Root Mean Squared Error: 1.2534349977462063\n",
            "Mean Abosolute Error: 0.9357895146804387\n"
          ]
        }
      ],
      "source": [
        "model_rdr = RandomForestRegressor(n_estimators=100, max_depth = 10, random_state=random_state)\n",
        "model_rdr.fit(x_train_scaled, y_train)\n",
        "\n",
        "y_pred = model_rdr.predict(x_test_scaled)\n",
        "score(y_test, y_pred)"
      ]
    },
    {
      "cell_type": "markdown",
      "metadata": {},
      "source": [
        "# XGBRegressor"
      ]
    },
    {
      "cell_type": "code",
      "execution_count": 43,
      "metadata": {},
      "outputs": [
        {
          "data": {
            "text/html": [
              "<style>#sk-container-id-5 {color: black;}#sk-container-id-5 pre{padding: 0;}#sk-container-id-5 div.sk-toggleable {background-color: white;}#sk-container-id-5 label.sk-toggleable__label {cursor: pointer;display: block;width: 100%;margin-bottom: 0;padding: 0.3em;box-sizing: border-box;text-align: center;}#sk-container-id-5 label.sk-toggleable__label-arrow:before {content: \"▸\";float: left;margin-right: 0.25em;color: #696969;}#sk-container-id-5 label.sk-toggleable__label-arrow:hover:before {color: black;}#sk-container-id-5 div.sk-estimator:hover label.sk-toggleable__label-arrow:before {color: black;}#sk-container-id-5 div.sk-toggleable__content {max-height: 0;max-width: 0;overflow: hidden;text-align: left;background-color: #f0f8ff;}#sk-container-id-5 div.sk-toggleable__content pre {margin: 0.2em;color: black;border-radius: 0.25em;background-color: #f0f8ff;}#sk-container-id-5 input.sk-toggleable__control:checked~div.sk-toggleable__content {max-height: 200px;max-width: 100%;overflow: auto;}#sk-container-id-5 input.sk-toggleable__control:checked~label.sk-toggleable__label-arrow:before {content: \"▾\";}#sk-container-id-5 div.sk-estimator input.sk-toggleable__control:checked~label.sk-toggleable__label {background-color: #d4ebff;}#sk-container-id-5 div.sk-label input.sk-toggleable__control:checked~label.sk-toggleable__label {background-color: #d4ebff;}#sk-container-id-5 input.sk-hidden--visually {border: 0;clip: rect(1px 1px 1px 1px);clip: rect(1px, 1px, 1px, 1px);height: 1px;margin: -1px;overflow: hidden;padding: 0;position: absolute;width: 1px;}#sk-container-id-5 div.sk-estimator {font-family: monospace;background-color: #f0f8ff;border: 1px dotted black;border-radius: 0.25em;box-sizing: border-box;margin-bottom: 0.5em;}#sk-container-id-5 div.sk-estimator:hover {background-color: #d4ebff;}#sk-container-id-5 div.sk-parallel-item::after {content: \"\";width: 100%;border-bottom: 1px solid gray;flex-grow: 1;}#sk-container-id-5 div.sk-label:hover label.sk-toggleable__label {background-color: #d4ebff;}#sk-container-id-5 div.sk-serial::before {content: \"\";position: absolute;border-left: 1px solid gray;box-sizing: border-box;top: 0;bottom: 0;left: 50%;z-index: 0;}#sk-container-id-5 div.sk-serial {display: flex;flex-direction: column;align-items: center;background-color: white;padding-right: 0.2em;padding-left: 0.2em;position: relative;}#sk-container-id-5 div.sk-item {position: relative;z-index: 1;}#sk-container-id-5 div.sk-parallel {display: flex;align-items: stretch;justify-content: center;background-color: white;position: relative;}#sk-container-id-5 div.sk-item::before, #sk-container-id-5 div.sk-parallel-item::before {content: \"\";position: absolute;border-left: 1px solid gray;box-sizing: border-box;top: 0;bottom: 0;left: 50%;z-index: -1;}#sk-container-id-5 div.sk-parallel-item {display: flex;flex-direction: column;z-index: 1;position: relative;background-color: white;}#sk-container-id-5 div.sk-parallel-item:first-child::after {align-self: flex-end;width: 50%;}#sk-container-id-5 div.sk-parallel-item:last-child::after {align-self: flex-start;width: 50%;}#sk-container-id-5 div.sk-parallel-item:only-child::after {width: 0;}#sk-container-id-5 div.sk-dashed-wrapped {border: 1px dashed gray;margin: 0 0.4em 0.5em 0.4em;box-sizing: border-box;padding-bottom: 0.4em;background-color: white;}#sk-container-id-5 div.sk-label label {font-family: monospace;font-weight: bold;display: inline-block;line-height: 1.2em;}#sk-container-id-5 div.sk-label-container {text-align: center;}#sk-container-id-5 div.sk-container {/* jupyter's `normalize.less` sets `[hidden] { display: none; }` but bootstrap.min.css set `[hidden] { display: none !important; }` so we also need the `!important` here to be able to override the default hidden behavior on the sphinx rendered scikit-learn.org. See: https://github.com/scikit-learn/scikit-learn/issues/21755 */display: inline-block !important;position: relative;}#sk-container-id-5 div.sk-text-repr-fallback {display: none;}</style><div id=\"sk-container-id-5\" class=\"sk-top-container\"><div class=\"sk-text-repr-fallback\"><pre>GridSearchCV(estimator=XGBRegressor(base_score=None, booster=None,\n",
              "                                    callbacks=None, colsample_bylevel=None,\n",
              "                                    colsample_bynode=None,\n",
              "                                    colsample_bytree=None, device=None,\n",
              "                                    early_stopping_rounds=None,\n",
              "                                    enable_categorical=False, eval_metric=None,\n",
              "                                    feature_types=None, gamma=None,\n",
              "                                    grow_policy=None, importance_type=None,\n",
              "                                    interaction_constraints=None,\n",
              "                                    learning_rate=None, max_bi...\n",
              "                                    max_cat_to_onehot=None, max_delta_step=None,\n",
              "                                    max_depth=None, max_leaves=None,\n",
              "                                    min_child_weight=None, missing=nan,\n",
              "                                    monotone_constraints=None,\n",
              "                                    multi_strategy=None, n_estimators=None,\n",
              "                                    n_jobs=None, num_parallel_tree=None,\n",
              "                                    random_state=None, ...),\n",
              "             param_grid={&#x27;learning_rate&#x27;: [0.05, 0.1, 0.2, 0.3],\n",
              "                         &#x27;max_depth&#x27;: [3, 5, 7, 10],\n",
              "                         &#x27;min_child_weight&#x27;: [1, 10, 20, 50, 100],\n",
              "                         &#x27;n_estimators&#x27;: [10, 50, 100, 300, 400, 500, 800]})</pre><b>In a Jupyter environment, please rerun this cell to show the HTML representation or trust the notebook. <br />On GitHub, the HTML representation is unable to render, please try loading this page with nbviewer.org.</b></div><div class=\"sk-container\" hidden><div class=\"sk-item sk-dashed-wrapped\"><div class=\"sk-label-container\"><div class=\"sk-label sk-toggleable\"><input class=\"sk-toggleable__control sk-hidden--visually\" id=\"sk-estimator-id-9\" type=\"checkbox\" ><label for=\"sk-estimator-id-9\" class=\"sk-toggleable__label sk-toggleable__label-arrow\">GridSearchCV</label><div class=\"sk-toggleable__content\"><pre>GridSearchCV(estimator=XGBRegressor(base_score=None, booster=None,\n",
              "                                    callbacks=None, colsample_bylevel=None,\n",
              "                                    colsample_bynode=None,\n",
              "                                    colsample_bytree=None, device=None,\n",
              "                                    early_stopping_rounds=None,\n",
              "                                    enable_categorical=False, eval_metric=None,\n",
              "                                    feature_types=None, gamma=None,\n",
              "                                    grow_policy=None, importance_type=None,\n",
              "                                    interaction_constraints=None,\n",
              "                                    learning_rate=None, max_bi...\n",
              "                                    max_cat_to_onehot=None, max_delta_step=None,\n",
              "                                    max_depth=None, max_leaves=None,\n",
              "                                    min_child_weight=None, missing=nan,\n",
              "                                    monotone_constraints=None,\n",
              "                                    multi_strategy=None, n_estimators=None,\n",
              "                                    n_jobs=None, num_parallel_tree=None,\n",
              "                                    random_state=None, ...),\n",
              "             param_grid={&#x27;learning_rate&#x27;: [0.05, 0.1, 0.2, 0.3],\n",
              "                         &#x27;max_depth&#x27;: [3, 5, 7, 10],\n",
              "                         &#x27;min_child_weight&#x27;: [1, 10, 20, 50, 100],\n",
              "                         &#x27;n_estimators&#x27;: [10, 50, 100, 300, 400, 500, 800]})</pre></div></div></div><div class=\"sk-parallel\"><div class=\"sk-parallel-item\"><div class=\"sk-item\"><div class=\"sk-label-container\"><div class=\"sk-label sk-toggleable\"><input class=\"sk-toggleable__control sk-hidden--visually\" id=\"sk-estimator-id-10\" type=\"checkbox\" ><label for=\"sk-estimator-id-10\" class=\"sk-toggleable__label sk-toggleable__label-arrow\">estimator: XGBRegressor</label><div class=\"sk-toggleable__content\"><pre>XGBRegressor(base_score=None, booster=None, callbacks=None,\n",
              "             colsample_bylevel=None, colsample_bynode=None,\n",
              "             colsample_bytree=None, device=None, early_stopping_rounds=None,\n",
              "             enable_categorical=False, eval_metric=None, feature_types=None,\n",
              "             gamma=None, grow_policy=None, importance_type=None,\n",
              "             interaction_constraints=None, learning_rate=None, max_bin=None,\n",
              "             max_cat_threshold=None, max_cat_to_onehot=None,\n",
              "             max_delta_step=None, max_depth=None, max_leaves=None,\n",
              "             min_child_weight=None, missing=nan, monotone_constraints=None,\n",
              "             multi_strategy=None, n_estimators=None, n_jobs=None,\n",
              "             num_parallel_tree=None, random_state=None, ...)</pre></div></div></div><div class=\"sk-serial\"><div class=\"sk-item\"><div class=\"sk-estimator sk-toggleable\"><input class=\"sk-toggleable__control sk-hidden--visually\" id=\"sk-estimator-id-11\" type=\"checkbox\" ><label for=\"sk-estimator-id-11\" class=\"sk-toggleable__label sk-toggleable__label-arrow\">XGBRegressor</label><div class=\"sk-toggleable__content\"><pre>XGBRegressor(base_score=None, booster=None, callbacks=None,\n",
              "             colsample_bylevel=None, colsample_bynode=None,\n",
              "             colsample_bytree=None, device=None, early_stopping_rounds=None,\n",
              "             enable_categorical=False, eval_metric=None, feature_types=None,\n",
              "             gamma=None, grow_policy=None, importance_type=None,\n",
              "             interaction_constraints=None, learning_rate=None, max_bin=None,\n",
              "             max_cat_threshold=None, max_cat_to_onehot=None,\n",
              "             max_delta_step=None, max_depth=None, max_leaves=None,\n",
              "             min_child_weight=None, missing=nan, monotone_constraints=None,\n",
              "             multi_strategy=None, n_estimators=None, n_jobs=None,\n",
              "             num_parallel_tree=None, random_state=None, ...)</pre></div></div></div></div></div></div></div></div></div></div>"
            ],
            "text/plain": [
              "GridSearchCV(estimator=XGBRegressor(base_score=None, booster=None,\n",
              "                                    callbacks=None, colsample_bylevel=None,\n",
              "                                    colsample_bynode=None,\n",
              "                                    colsample_bytree=None, device=None,\n",
              "                                    early_stopping_rounds=None,\n",
              "                                    enable_categorical=False, eval_metric=None,\n",
              "                                    feature_types=None, gamma=None,\n",
              "                                    grow_policy=None, importance_type=None,\n",
              "                                    interaction_constraints=None,\n",
              "                                    learning_rate=None, max_bi...\n",
              "                                    max_cat_to_onehot=None, max_delta_step=None,\n",
              "                                    max_depth=None, max_leaves=None,\n",
              "                                    min_child_weight=None, missing=nan,\n",
              "                                    monotone_constraints=None,\n",
              "                                    multi_strategy=None, n_estimators=None,\n",
              "                                    n_jobs=None, num_parallel_tree=None,\n",
              "                                    random_state=None, ...),\n",
              "             param_grid={'learning_rate': [0.05, 0.1, 0.2, 0.3],\n",
              "                         'max_depth': [3, 5, 7, 10],\n",
              "                         'min_child_weight': [1, 10, 20, 50, 100],\n",
              "                         'n_estimators': [10, 50, 100, 300, 400, 500, 800]})"
            ]
          },
          "execution_count": 43,
          "metadata": {},
          "output_type": "execute_result"
        }
      ],
      "source": [
        "paremeter = {\"n_estimators\": [10, 50, 100, 300, 400, 500, 800],\n",
        "              \"max_depth\": [3, 5, 7, 10],\n",
        "              \"learning_rate\": [0.05, 0.1, 0.2, 0.3],\n",
        "              \"min_child_weight\": [1, 10, 20, 50, 100]}\n",
        "xgbr = XGBRegressor()\n",
        "gscv = GridSearchCV(xgbr, paremeter)\n",
        "gscv.fit(x_train_scaled, y_train)"
      ]
    },
    {
      "cell_type": "code",
      "execution_count": 49,
      "metadata": {},
      "outputs": [
        {
          "name": "stdout",
          "output_type": "stream",
          "text": [
            "Root Mean Squared Error: 1.24180412685802\n",
            "Mean Abosolute Error: 0.9254499848998802\n"
          ]
        }
      ],
      "source": [
        "y_pred = gscv.best_estimator_.predict((x_test_scaled))\n",
        "score(y_test, y_pred)"
      ]
    },
    {
      "cell_type": "code",
      "execution_count": 64,
      "metadata": {},
      "outputs": [],
      "source": [
        "def score_diff(y_true, y_pred, title):\n",
        "  ftr = np.abs(np.subtract(y_true, y_pred))\n",
        "  _, _, bars = plt.hist(ftr, bins= np.arange(10))\n",
        "  plt.title(title)\n",
        "  plt.xticks(np.arange(10))\n",
        "  plt.bar_label(bars)"
      ]
    },
    {
      "cell_type": "markdown",
      "metadata": {},
      "source": [
        "# Difference between reviewer score and predict score "
      ]
    },
    {
      "cell_type": "code",
      "execution_count": 65,
      "metadata": {},
      "outputs": [
        {
          "data": {
            "image/png": "[encoded data removed]",
            "text/plain": [
              "<Figure size 640x480 with 1 Axes>"
            ]
          },
          "metadata": {},
          "output_type": "display_data"
        }
      ],
      "source": [
        "score_diff(y_test, y_pred, \"XGBRegressor + Feature engineering\")"
      ]
    },
    {
      "cell_type": "code",
      "execution_count": 72,
      "metadata": {},
      "outputs": [
        {
          "data": {
            "image/png": "[encoded data removed]",
            "text/plain": [
              "<Figure size 640x480 with 1 Axes>"
            ]
          },
          "metadata": {},
          "output_type": "display_data"
        }
      ],
      "source": [
        "score_diff(y_test, y_pred_baseline, \"baseline\")"
      ]
    },
    {
      "cell_type": "markdown",
      "metadata": {},
      "source": [
        "# Wrong prediction analysis"
      ]
    },
    {
      "cell_type": "code",
      "execution_count": 73,
      "metadata": {},
      "outputs": [
        {
          "data": {
            "text/plain": [
              "array([   113,    479,    730,    899,   1234,   1383,   1466,   1473,\n",
              "         1616,   1715,   1743,   2011,   2134,   2416,   2425,   3629,\n",
              "         4043,   4106,   4168,   4369,   4401,   4497,   4543,   4654,\n",
              "         4979,   5052,   5197,   5226,   5311,   5459,   5480,   5568,\n",
              "         5715,   5831,   5841,   5971,   6005,   6008,   6139,   6235,\n",
              "         6449,   6866,   6964,   6973,   7153,   7339,   7546,   7558,\n",
              "         7709,   7838,   7859,   7876,   8089,   8202,   8235,   8291,\n",
              "         8425,   8464,   8584,   8707,   8740,   8743,   8922,   8954,\n",
              "         9031,   9132,   9311,   9523,   9578,   9820,  10032,  10124,\n",
              "        10142,  10158,  10202,  10340,  10372,  10618,  10652,  10708,\n",
              "        10709,  10735,  11001,  11242,  11246,  11260,  11315,  11486,\n",
              "        11547,  11708,  11800,  11891,  12042,  12057,  12175,  12269,\n",
              "        12294,  12312,  12379,  12387,  12476,  12557,  12604,  12942,\n",
              "        13163,  13221,  13344,  13372,  13528,  13544,  13619,  13654,\n",
              "        13737,  14205,  14214,  14469,  14687,  14724,  14779,  15236,\n",
              "        15242,  15281,  15328,  15388,  15467,  15658,  15861,  15938,\n",
              "        16077,  16117,  16182,  16216,  16795,  16878,  16899,  16960,\n",
              "        16979,  16998,  17003,  17012,  17112,  17115,  17316,  17474,\n",
              "        17484,  17504,  17519,  17561,  17588,  18002,  18128,  18240,\n",
              "        18303,  18309,  18335,  18590,  18709,  18984,  18994,  19151,\n",
              "        19152,  19240,  19608,  19622,  19678,  20054,  20179,  20265,\n",
              "        20274,  20364,  20480,  20575,  20576,  20631,  20635,  20802,\n",
              "        20896,  21104,  21247,  21315,  21348,  21372,  21414,  21643,\n",
              "        21653,  21676,  21796,  21804,  21815,  22330,  22408,  22410,\n",
              "        22427,  22428,  22453,  22646,  22726,  22898,  22984,  23226,\n",
              "        23298,  23393,  23424,  23478,  23589,  23595,  23769,  23943,\n",
              "        24493,  24706,  25045,  25214,  25253,  25853,  25875,  26192,\n",
              "        26273,  26397,  26452,  26459,  26492,  26527,  26566,  26592,\n",
              "        26593,  26925,  26949,  26960,  26992,  27105,  27168,  27220,\n",
              "        27233,  27494,  27762,  27790,  27892,  27904,  27977,  28083,\n",
              "        28102,  28245,  28246,  28258,  28326,  28359,  28634,  28637,\n",
              "        28638,  28650,  28670,  28755,  28825,  28846,  28932,  28935,\n",
              "        29117,  29160,  29266,  29274,  29308,  29476,  29888,  30306,\n",
              "        30487,  30545,  30620,  30664,  30701,  30806,  31012,  31015,\n",
              "        31028,  31119,  31240,  31331,  31364,  31402,  31426,  31586,\n",
              "        31678,  32009,  32080,  32270,  32348,  32376,  32498,  32516,\n",
              "        33277,  33416,  33968,  34301,  34362,  34403,  34427,  34546,\n",
              "        34846,  34854,  34861,  34935,  34951,  34965,  34970,  34977,\n",
              "        35006,  35100,  35237,  35346,  35352,  35672,  35721,  35809,\n",
              "        35811,  35953,  36083,  36167,  36235,  36304,  36402,  36546,\n",
              "        36643,  36745,  36771,  36798,  36800,  36810,  36840,  36880,\n",
              "        36886,  36926,  36965,  37031,  37194,  37253,  37296,  37355,\n",
              "        37590,  37754,  37948,  37990,  38065,  38092,  38282,  38481,\n",
              "        38501,  38623,  38644,  38650,  38656,  38696,  38703,  38996,\n",
              "        39159,  39247,  39268,  39303,  39409,  39755,  39802,  39864,\n",
              "        39919,  40258,  40418,  40495,  40578,  40619,  40816,  40867,\n",
              "        40947,  40976,  40988,  41174,  41281,  41314,  41468,  41704,\n",
              "        41774,  42007,  42172,  42250,  42393,  42472,  42538,  42673,\n",
              "        42702,  43145,  43272,  43292,  43309,  43333,  43513,  43578,\n",
              "        43932,  43944,  43992,  44034,  44049,  44089,  44204,  44343,\n",
              "        44416,  44609,  44692,  44712,  44743,  44761,  44903,  44925,\n",
              "        45085,  45093,  45204,  45222,  45538,  45539,  45787,  45798,\n",
              "        45881,  46124,  46206,  46456,  46555,  46791,  46902,  47043,\n",
              "        47260,  47267,  47448,  47537,  47578,  47792,  47853,  47997,\n",
              "        48091,  48105,  48164,  48212,  48280,  48879,  48885,  49199,\n",
              "        49377,  49395,  49459,  49683,  49776,  50091,  50102,  50254,\n",
              "        50316,  50527,  50760,  50882,  51264,  51567,  52295,  52348,\n",
              "        52397,  52405,  52479,  52542,  52590,  52637,  52772,  52839,\n",
              "        52913,  52952,  52957,  53063,  53086,  53093,  53163,  53388,\n",
              "        53558,  53610,  53668,  54076,  54126,  54197,  54307,  54718,\n",
              "        55290,  55607,  55842,  55861,  55866,  55961,  56110,  56131,\n",
              "        56209,  56227,  56439,  56513,  56772,  56911,  56921,  56965,\n",
              "        56966,  57196,  57282,  57283,  57284,  57303,  57549,  57815,\n",
              "        57817,  57832,  57927,  57962,  58010,  58313,  58365,  58456,\n",
              "        58651,  58910,  59071,  59109,  59266,  59268,  59337,  59635,\n",
              "        59691,  60041,  60108,  60145,  60217,  60375,  60444,  60503,\n",
              "        60548,  60600,  60859,  61219,  61380,  61424,  61500,  61520,\n",
              "        61906,  61915,  62020,  62059,  62157,  62175,  62216,  62323,\n",
              "        62348,  62481,  62498,  62621,  62690,  62704,  62770,  63102,\n",
              "        63135,  63152,  63299,  63461,  63474,  63480,  63519,  63532,\n",
              "        63534,  63535,  63558,  64031,  64102,  64198,  64309,  64310,\n",
              "        64377,  64425,  64503,  64529,  65057,  65172,  65186,  65266,\n",
              "        65306,  65463,  65474,  65541,  65741,  65837,  65876,  65956,\n",
              "        65961,  65998,  66074,  66128,  66245,  66331,  66426,  66446,\n",
              "        66586,  66615,  66616,  66661,  66716,  66858,  67049,  67065,\n",
              "        67149,  67223,  67238,  67274,  67393,  67413,  67485,  67609,\n",
              "        67851,  68104,  68105,  68108,  68279,  68557,  68789,  68791,\n",
              "        68975,  69009,  69030,  69168,  69251,  69465,  69479,  69500,\n",
              "        69524,  69679,  69747,  69856,  69898,  69911,  70106,  70122,\n",
              "        70465,  70641,  70787,  70885,  71014,  71016,  71291,  71293,\n",
              "        71400,  71590,  71623,  71897,  71927,  72016,  72018,  72107,\n",
              "        72175,  72627,  72664,  72788,  72842,  72845,  73089,  73198,\n",
              "        73293,  73347,  73469,  73499,  73549,  73628,  73642,  73705,\n",
              "        73732,  73892,  74083,  74126,  74199,  74210,  74283,  74308,\n",
              "        74635,  74695,  74776,  75157,  75168,  75438,  75446,  75773,\n",
              "        75781,  75847,  75851,  75867,  76311,  76325,  76557,  76570,\n",
              "        76639,  76748,  76821,  76951,  77057,  77695,  77744,  78095,\n",
              "        78143,  78186,  78195,  78426,  78487,  78504,  78791,  78819,\n",
              "        78832,  78847,  78853,  78914,  79503,  79752,  79786,  79801,\n",
              "        79830,  79921,  80054,  80134,  80450,  80458,  80488,  80563,\n",
              "        80725,  80778,  80805,  80816,  80830,  80920,  80962,  80979,\n",
              "        80983,  81172,  81189,  81212,  81282,  81306,  81520,  81524,\n",
              "        81746,  81786,  81832,  82088,  82114,  82409,  82427,  82429,\n",
              "        82440,  82638,  82665,  82705,  82760,  82766,  82776,  82817,\n",
              "        82865,  82956,  83066,  83139,  83315,  83373,  83393,  83394,\n",
              "        83465,  83480,  83650,  83830,  83867,  84004,  84047,  84245,\n",
              "        84248,  84438,  84526,  84582,  84677,  84765,  84844,  85304,\n",
              "        85322,  85355,  85484,  85563,  85619,  86098,  86228,  86288,\n",
              "        86324,  86430,  86459,  86498,  86618,  86890,  86975,  87039,\n",
              "        87046,  87301,  87465,  87479,  87657,  87862,  88204,  88237,\n",
              "        88246,  88249,  88282,  88288,  88440,  88488,  88842,  88882,\n",
              "        88950,  88985,  89363,  89364,  89830,  89877,  90112,  90238,\n",
              "        90343,  90390,  90415,  90682,  90684,  90720,  90821,  90892,\n",
              "        91071,  91150,  91206,  91211,  91288,  91483,  92259,  92601,\n",
              "        92696,  92739,  92750,  92837,  93073,  93138,  93139,  93310,\n",
              "        93355,  93372,  93618,  93890,  94006,  94033,  94199,  94265,\n",
              "        94528,  94537,  94616,  94635,  94687,  94825,  95107,  95136,\n",
              "        95224,  95481,  95716,  95753,  95758,  95931,  96301,  96317,\n",
              "        96413,  96503,  96598,  96668,  96826,  96885,  96930,  97135,\n",
              "        97192,  97260,  97619,  97624,  97728,  98006,  98084,  98091,\n",
              "        98159,  98598,  98731,  98772,  98791,  98973,  99125,  99131,\n",
              "        99269,  99300,  99432,  99554,  99631,  99781,  99830,  99964,\n",
              "       100215, 100289, 100481, 100503, 100505, 100523, 100625, 100664,\n",
              "       100908, 101013, 101049, 101101, 101392, 101444, 101458, 101505,\n",
              "       101847, 101924, 102214, 102218, 102241, 102330, 102566, 102983,\n",
              "       103164, 103306, 103454, 103583], dtype=int64)"
            ]
          },
          "execution_count": 73,
          "metadata": {},
          "output_type": "execute_result"
        }
      ],
      "source": [
        "display = ftr = np.abs(np.subtract(y_test, y_pred)).copy()\n",
        "display[ftr<4] = 0\n",
        "test = np.flatnonzero(display)\n",
        "test"
      ]
    },
    {
      "cell_type": "code",
      "execution_count": 74,
      "metadata": {},
      "outputs": [
        {
          "data": {
            "text/html": [
              "<div>\n",
              "<style scoped>\n",
              "    .dataframe tbody tr th:only-of-type {\n",
              "        vertical-align: middle;\n",
              "    }\n",
              "\n",
              "    .dataframe tbody tr th {\n",
              "        vertical-align: top;\n",
              "    }\n",
              "\n",
              "    .dataframe thead th {\n",
              "        text-align: right;\n",
              "    }\n",
              "</style>\n",
              "<table border=\"1\" class=\"dataframe\">\n",
              "  <thead>\n",
              "    <tr style=\"text-align: right;\">\n",
              "      <th></th>\n",
              "      <th>Hotel_Address</th>\n",
              "      <th>Average_Score</th>\n",
              "      <th>Hotel_Name</th>\n",
              "      <th>Negative_Review</th>\n",
              "      <th>Positive_Review</th>\n",
              "      <th>Reviewer_Score</th>\n",
              "      <th>Tags</th>\n",
              "      <th>Hotel_Nation</th>\n",
              "      <th>Negative_Review_Nouns</th>\n",
              "      <th>Positive_Review_Nouns</th>\n",
              "      <th>...</th>\n",
              "      <th>Customer_Location</th>\n",
              "      <th>Customer_Service</th>\n",
              "      <th>Customer_Room</th>\n",
              "      <th>Customer_F&amp;A</th>\n",
              "      <th>Customer_Meal</th>\n",
              "      <th>trip_type</th>\n",
              "      <th>room_type</th>\n",
              "      <th>travel_type</th>\n",
              "      <th>stayed_time</th>\n",
              "      <th>room_size</th>\n",
              "    </tr>\n",
              "  </thead>\n",
              "  <tbody>\n",
              "    <tr>\n",
              "      <th>113</th>\n",
              "      <td>Lerchenfelder Stra e 1 3 07 Neubau 1070 Vienna...</td>\n",
              "      <td>8.8</td>\n",
              "      <td>25hours Hotel beim MuseumsQuartier</td>\n",
              "      <td>You guys are really rude You try to take adva...</td>\n",
              "      <td>empty</td>\n",
              "      <td>2.5</td>\n",
              "      <td>leisure trip ,  family with older children ,  ...</td>\n",
              "      <td>Austria</td>\n",
              "      <td>guy advantage breakfast breakfast euro person ...</td>\n",
              "      <td>empty</td>\n",
              "      <td>...</td>\n",
              "      <td>-0.266667</td>\n",
              "      <td>-0.466667</td>\n",
              "      <td>0.000000</td>\n",
              "      <td>0.000000</td>\n",
              "      <td>-0.266667</td>\n",
              "      <td>1</td>\n",
              "      <td>1</td>\n",
              "      <td>4</td>\n",
              "      <td>2</td>\n",
              "      <td>2</td>\n",
              "    </tr>\n",
              "    <tr>\n",
              "      <th>479</th>\n",
              "      <td>Passeig de Sant Antoni 36 40 Sants Montju c 08...</td>\n",
              "      <td>8.0</td>\n",
              "      <td>AC Hotel Sants a Marriott Lifestyle Hotel</td>\n",
              "      <td>The noisy hotel and unfriendly staff</td>\n",
              "      <td>It is good if you are travelling by train But...</td>\n",
              "      <td>4.6</td>\n",
              "      <td>leisure trip ,  family with older children ,  ...</td>\n",
              "      <td>Spain</td>\n",
              "      <td>hotel staff</td>\n",
              "      <td>train staff receptionist phone call customer s...</td>\n",
              "      <td>...</td>\n",
              "      <td>0.000000</td>\n",
              "      <td>0.750000</td>\n",
              "      <td>0.000000</td>\n",
              "      <td>0.250000</td>\n",
              "      <td>0.000000</td>\n",
              "      <td>1</td>\n",
              "      <td>0</td>\n",
              "      <td>4</td>\n",
              "      <td>1</td>\n",
              "      <td>2</td>\n",
              "    </tr>\n",
              "    <tr>\n",
              "      <th>730</th>\n",
              "      <td>32 rue des Saints P res 7th arr 75007 Paris Fr...</td>\n",
              "      <td>9.0</td>\n",
              "      <td>Acad mie H tel Saint Germain</td>\n",
              "      <td>empty</td>\n",
              "      <td>Very charming and helpful receptionists beaut...</td>\n",
              "      <td>2.5</td>\n",
              "      <td>leisure trip ,  solo traveler ,  standard room...</td>\n",
              "      <td>France</td>\n",
              "      <td>empty</td>\n",
              "      <td>room position boulevard saint place</td>\n",
              "      <td>...</td>\n",
              "      <td>0.666667</td>\n",
              "      <td>0.000000</td>\n",
              "      <td>0.333333</td>\n",
              "      <td>0.000000</td>\n",
              "      <td>0.000000</td>\n",
              "      <td>1</td>\n",
              "      <td>1</td>\n",
              "      <td>1</td>\n",
              "      <td>1</td>\n",
              "      <td>0</td>\n",
              "    </tr>\n",
              "    <tr>\n",
              "      <th>899</th>\n",
              "      <td>Villarroel 106 Eixample 08011 Barcelona Spain</td>\n",
              "      <td>7.8</td>\n",
              "      <td>Acevi Villarroel</td>\n",
              "      <td>Nothing good this isn t a 4 stars hotel at al...</td>\n",
              "      <td>empty</td>\n",
              "      <td>2.5</td>\n",
              "      <td>leisure trip ,  family with young children ,  ...</td>\n",
              "      <td>Spain</td>\n",
              "      <td>nothing star hotel value money night breakfast...</td>\n",
              "      <td>empty</td>\n",
              "      <td>...</td>\n",
              "      <td>-0.333333</td>\n",
              "      <td>-0.333333</td>\n",
              "      <td>0.000000</td>\n",
              "      <td>-0.166667</td>\n",
              "      <td>-0.166667</td>\n",
              "      <td>1</td>\n",
              "      <td>0</td>\n",
              "      <td>4</td>\n",
              "      <td>1</td>\n",
              "      <td>2</td>\n",
              "    </tr>\n",
              "    <tr>\n",
              "      <th>1234</th>\n",
              "      <td>Vijzelstraat 49 Amsterdam City Center 1017 HE ...</td>\n",
              "      <td>8.2</td>\n",
              "      <td>Albus Hotel Amsterdam City Centre</td>\n",
              "      <td>I got money stolen from my room Woken up ever...</td>\n",
              "      <td>Not a lot</td>\n",
              "      <td>2.5</td>\n",
              "      <td>leisure trip ,  group ,  deluxe twin room sout...</td>\n",
              "      <td>Netherlands</td>\n",
              "      <td>money room morning staff room room</td>\n",
              "      <td>lot</td>\n",
              "      <td>...</td>\n",
              "      <td>0.000000</td>\n",
              "      <td>-0.400000</td>\n",
              "      <td>-0.600000</td>\n",
              "      <td>0.000000</td>\n",
              "      <td>0.000000</td>\n",
              "      <td>1</td>\n",
              "      <td>6</td>\n",
              "      <td>3</td>\n",
              "      <td>3</td>\n",
              "      <td>3</td>\n",
              "    </tr>\n",
              "    <tr>\n",
              "      <th>...</th>\n",
              "      <td>...</td>\n",
              "      <td>...</td>\n",
              "      <td>...</td>\n",
              "      <td>...</td>\n",
              "      <td>...</td>\n",
              "      <td>...</td>\n",
              "      <td>...</td>\n",
              "      <td>...</td>\n",
              "      <td>...</td>\n",
              "      <td>...</td>\n",
              "      <td>...</td>\n",
              "      <td>...</td>\n",
              "      <td>...</td>\n",
              "      <td>...</td>\n",
              "      <td>...</td>\n",
              "      <td>...</td>\n",
              "      <td>...</td>\n",
              "      <td>...</td>\n",
              "      <td>...</td>\n",
              "      <td>...</td>\n",
              "      <td>...</td>\n",
              "    </tr>\n",
              "    <tr>\n",
              "      <th>102983</th>\n",
              "      <td>6 Holywell Lane Hackney London EC2A 3ET UK</td>\n",
              "      <td>9.1</td>\n",
              "      <td>citizenM London Shoreditch</td>\n",
              "      <td>Very very disappointed we had to pay for an e...</td>\n",
              "      <td>empty</td>\n",
              "      <td>2.9</td>\n",
              "      <td>business trip ,  group ,  double room ,  staye...</td>\n",
              "      <td>UK</td>\n",
              "      <td>night check time com hotel</td>\n",
              "      <td>empty</td>\n",
              "      <td>...</td>\n",
              "      <td>-0.333333</td>\n",
              "      <td>-0.666667</td>\n",
              "      <td>0.000000</td>\n",
              "      <td>0.000000</td>\n",
              "      <td>0.000000</td>\n",
              "      <td>0</td>\n",
              "      <td>0</td>\n",
              "      <td>3</td>\n",
              "      <td>2</td>\n",
              "      <td>2</td>\n",
              "    </tr>\n",
              "    <tr>\n",
              "      <th>103164</th>\n",
              "      <td>40 trinity square City of London London EC3N 4...</td>\n",
              "      <td>9.1</td>\n",
              "      <td>citizenM Tower of London</td>\n",
              "      <td>Everything If you are a traditional person li...</td>\n",
              "      <td>Very high tec hotel The room is all controlle...</td>\n",
              "      <td>5.4</td>\n",
              "      <td>business trip ,  solo traveler ,  single room ...</td>\n",
              "      <td>UK</td>\n",
              "      <td>everything person spoon morning coffee stick h...</td>\n",
              "      <td>hotel room lobby reception self service touch ...</td>\n",
              "      <td>...</td>\n",
              "      <td>0.125000</td>\n",
              "      <td>0.250000</td>\n",
              "      <td>0.500000</td>\n",
              "      <td>0.125000</td>\n",
              "      <td>0.000000</td>\n",
              "      <td>0</td>\n",
              "      <td>0</td>\n",
              "      <td>1</td>\n",
              "      <td>2</td>\n",
              "      <td>1</td>\n",
              "    </tr>\n",
              "    <tr>\n",
              "      <th>103306</th>\n",
              "      <td>40 trinity square City of London London EC3N 4...</td>\n",
              "      <td>9.1</td>\n",
              "      <td>citizenM Tower of London</td>\n",
              "      <td>the room stay is for disablility that sink is...</td>\n",
              "      <td>empty</td>\n",
              "      <td>3.8</td>\n",
              "      <td>leisure trip ,  solo traveler ,  double room ,...</td>\n",
              "      <td>UK</td>\n",
              "      <td>room sink kind room</td>\n",
              "      <td>empty</td>\n",
              "      <td>...</td>\n",
              "      <td>0.000000</td>\n",
              "      <td>0.000000</td>\n",
              "      <td>-1.000000</td>\n",
              "      <td>0.000000</td>\n",
              "      <td>0.000000</td>\n",
              "      <td>1</td>\n",
              "      <td>0</td>\n",
              "      <td>1</td>\n",
              "      <td>3</td>\n",
              "      <td>2</td>\n",
              "    </tr>\n",
              "    <tr>\n",
              "      <th>103454</th>\n",
              "      <td>40 trinity square City of London London EC3N 4...</td>\n",
              "      <td>9.1</td>\n",
              "      <td>citizenM Tower of London</td>\n",
              "      <td>empty</td>\n",
              "      <td>Satisfied</td>\n",
              "      <td>4.2</td>\n",
              "      <td>leisure trip ,  couple ,  double room ,  staye...</td>\n",
              "      <td>UK</td>\n",
              "      <td>empty</td>\n",
              "      <td>empty</td>\n",
              "      <td>...</td>\n",
              "      <td>0.000000</td>\n",
              "      <td>0.000000</td>\n",
              "      <td>0.000000</td>\n",
              "      <td>0.000000</td>\n",
              "      <td>0.000000</td>\n",
              "      <td>1</td>\n",
              "      <td>0</td>\n",
              "      <td>2</td>\n",
              "      <td>1</td>\n",
              "      <td>2</td>\n",
              "    </tr>\n",
              "    <tr>\n",
              "      <th>103583</th>\n",
              "      <td>Margaretenstra e 92 05 Margareten 1050 Vienna ...</td>\n",
              "      <td>8.5</td>\n",
              "      <td>pentahotel Vienna</td>\n",
              "      <td>empty</td>\n",
              "      <td>The hotels is very bad no verg air ice no coo...</td>\n",
              "      <td>2.9</td>\n",
              "      <td>leisure trip ,  family with young children ,  ...</td>\n",
              "      <td>Austria</td>\n",
              "      <td>empty</td>\n",
              "      <td>hotel air ice cooler</td>\n",
              "      <td>...</td>\n",
              "      <td>0.333333</td>\n",
              "      <td>0.000000</td>\n",
              "      <td>0.333333</td>\n",
              "      <td>0.000000</td>\n",
              "      <td>0.333333</td>\n",
              "      <td>1</td>\n",
              "      <td>7</td>\n",
              "      <td>4</td>\n",
              "      <td>3</td>\n",
              "      <td>0</td>\n",
              "    </tr>\n",
              "  </tbody>\n",
              "</table>\n",
              "<p>924 rows × 25 columns</p>\n",
              "</div>"
            ],
            "text/plain": [
              "                                            Hotel_Address  Average_Score  \\\n",
              "113     Lerchenfelder Stra e 1 3 07 Neubau 1070 Vienna...            8.8   \n",
              "479     Passeig de Sant Antoni 36 40 Sants Montju c 08...            8.0   \n",
              "730     32 rue des Saints P res 7th arr 75007 Paris Fr...            9.0   \n",
              "899         Villarroel 106 Eixample 08011 Barcelona Spain            7.8   \n",
              "1234    Vijzelstraat 49 Amsterdam City Center 1017 HE ...            8.2   \n",
              "...                                                   ...            ...   \n",
              "102983         6 Holywell Lane Hackney London EC2A 3ET UK            9.1   \n",
              "103164  40 trinity square City of London London EC3N 4...            9.1   \n",
              "103306  40 trinity square City of London London EC3N 4...            9.1   \n",
              "103454  40 trinity square City of London London EC3N 4...            9.1   \n",
              "103583  Margaretenstra e 92 05 Margareten 1050 Vienna ...            8.5   \n",
              "\n",
              "                                       Hotel_Name  \\\n",
              "113            25hours Hotel beim MuseumsQuartier   \n",
              "479     AC Hotel Sants a Marriott Lifestyle Hotel   \n",
              "730                  Acad mie H tel Saint Germain   \n",
              "899                              Acevi Villarroel   \n",
              "1234            Albus Hotel Amsterdam City Centre   \n",
              "...                                           ...   \n",
              "102983                 citizenM London Shoreditch   \n",
              "103164                   citizenM Tower of London   \n",
              "103306                   citizenM Tower of London   \n",
              "103454                   citizenM Tower of London   \n",
              "103583                          pentahotel Vienna   \n",
              "\n",
              "                                          Negative_Review  \\\n",
              "113      You guys are really rude You try to take adva...   \n",
              "479                  The noisy hotel and unfriendly staff   \n",
              "730                                                 empty   \n",
              "899      Nothing good this isn t a 4 stars hotel at al...   \n",
              "1234     I got money stolen from my room Woken up ever...   \n",
              "...                                                   ...   \n",
              "102983   Very very disappointed we had to pay for an e...   \n",
              "103164   Everything If you are a traditional person li...   \n",
              "103306   the room stay is for disablility that sink is...   \n",
              "103454                                              empty   \n",
              "103583                                              empty   \n",
              "\n",
              "                                          Positive_Review  Reviewer_Score  \\\n",
              "113                                                 empty             2.5   \n",
              "479      It is good if you are travelling by train But...             4.6   \n",
              "730      Very charming and helpful receptionists beaut...             2.5   \n",
              "899                                                 empty             2.5   \n",
              "1234                                            Not a lot             2.5   \n",
              "...                                                   ...             ...   \n",
              "102983                                              empty             2.9   \n",
              "103164   Very high tec hotel The room is all controlle...             5.4   \n",
              "103306                                              empty             3.8   \n",
              "103454                                          Satisfied             4.2   \n",
              "103583   The hotels is very bad no verg air ice no coo...             2.9   \n",
              "\n",
              "                                                     Tags Hotel_Nation  \\\n",
              "113     leisure trip ,  family with older children ,  ...      Austria   \n",
              "479     leisure trip ,  family with older children ,  ...        Spain   \n",
              "730     leisure trip ,  solo traveler ,  standard room...       France   \n",
              "899     leisure trip ,  family with young children ,  ...        Spain   \n",
              "1234    leisure trip ,  group ,  deluxe twin room sout...  Netherlands   \n",
              "...                                                   ...          ...   \n",
              "102983  business trip ,  group ,  double room ,  staye...           UK   \n",
              "103164  business trip ,  solo traveler ,  single room ...           UK   \n",
              "103306  leisure trip ,  solo traveler ,  double room ,...           UK   \n",
              "103454  leisure trip ,  couple ,  double room ,  staye...           UK   \n",
              "103583  leisure trip ,  family with young children ,  ...      Austria   \n",
              "\n",
              "                                    Negative_Review_Nouns  \\\n",
              "113     guy advantage breakfast breakfast euro person ...   \n",
              "479                                           hotel staff   \n",
              "730                                                 empty   \n",
              "899     nothing star hotel value money night breakfast...   \n",
              "1234                   money room morning staff room room   \n",
              "...                                                   ...   \n",
              "102983                         night check time com hotel   \n",
              "103164  everything person spoon morning coffee stick h...   \n",
              "103306                                room sink kind room   \n",
              "103454                                              empty   \n",
              "103583                                              empty   \n",
              "\n",
              "                                    Positive_Review_Nouns  ...  \\\n",
              "113                                                 empty  ...   \n",
              "479     train staff receptionist phone call customer s...  ...   \n",
              "730                   room position boulevard saint place  ...   \n",
              "899                                                 empty  ...   \n",
              "1234                                                  lot  ...   \n",
              "...                                                   ...  ...   \n",
              "102983                                              empty  ...   \n",
              "103164  hotel room lobby reception self service touch ...  ...   \n",
              "103306                                              empty  ...   \n",
              "103454                                              empty  ...   \n",
              "103583                               hotel air ice cooler  ...   \n",
              "\n",
              "        Customer_Location  Customer_Service  Customer_Room  Customer_F&A  \\\n",
              "113             -0.266667         -0.466667       0.000000      0.000000   \n",
              "479              0.000000          0.750000       0.000000      0.250000   \n",
              "730              0.666667          0.000000       0.333333      0.000000   \n",
              "899             -0.333333         -0.333333       0.000000     -0.166667   \n",
              "1234             0.000000         -0.400000      -0.600000      0.000000   \n",
              "...                   ...               ...            ...           ...   \n",
              "102983          -0.333333         -0.666667       0.000000      0.000000   \n",
              "103164           0.125000          0.250000       0.500000      0.125000   \n",
              "103306           0.000000          0.000000      -1.000000      0.000000   \n",
              "103454           0.000000          0.000000       0.000000      0.000000   \n",
              "103583           0.333333          0.000000       0.333333      0.000000   \n",
              "\n",
              "        Customer_Meal  trip_type  room_type  travel_type  stayed_time  \\\n",
              "113         -0.266667          1          1            4            2   \n",
              "479          0.000000          1          0            4            1   \n",
              "730          0.000000          1          1            1            1   \n",
              "899         -0.166667          1          0            4            1   \n",
              "1234         0.000000          1          6            3            3   \n",
              "...               ...        ...        ...          ...          ...   \n",
              "102983       0.000000          0          0            3            2   \n",
              "103164       0.000000          0          0            1            2   \n",
              "103306       0.000000          1          0            1            3   \n",
              "103454       0.000000          1          0            2            1   \n",
              "103583       0.333333          1          7            4            3   \n",
              "\n",
              "        room_size  \n",
              "113             2  \n",
              "479             2  \n",
              "730             0  \n",
              "899             2  \n",
              "1234            3  \n",
              "...           ...  \n",
              "102983          2  \n",
              "103164          1  \n",
              "103306          2  \n",
              "103454          2  \n",
              "103583          0  \n",
              "\n",
              "[924 rows x 25 columns]"
            ]
          },
          "execution_count": 74,
          "metadata": {},
          "output_type": "execute_result"
        }
      ],
      "source": [
        "wrong = data_test.iloc[test]\n",
        "wrong"
      ]
    },
    {
      "cell_type": "code",
      "execution_count": 100,
      "metadata": {},
      "outputs": [
        {
          "name": "stdout",
          "output_type": "stream",
          "text": [
            "Positive:  The hotels is very bad no verg air ice no cooler is\n",
            "Negative: empty\n",
            "Predict score: 9.199039459228516\n",
            "True score: 2.9\n"
          ]
        }
      ],
      "source": [
        "idx = 103583\n",
        "print(f\"Positive: {wrong['Positive_Review'][idx]}\")\n",
        "print(f\"Negative: {wrong['Negative_Review'][idx]}\")\n",
        "print(f\"Predict score: {y_pred[idx]}\")\n",
        "print(f\"True score: {y_test[idx]}\")"
      ]
    },
    {
      "cell_type": "markdown",
      "metadata": {},
      "source": [
        "# Save model"
      ]
    },
    {
      "cell_type": "code",
      "execution_count": 102,
      "metadata": {},
      "outputs": [
        {
          "name": "stdout",
          "output_type": "stream",
          "text": [
            "Mô hình đã được lưu vào: ./models\\xgb_suggestion.joblib\n"
          ]
        }
      ],
      "source": [
        "model_file_path = os.path.join(save_path, 'xgb_suggestion.joblib')\n",
        "joblib.dump(gscv, model_file_path)\n",
        "print(f'Mô hình đã được lưu vào: {model_file_path}')"
      ]
    }
  ],
  "metadata": {
    "colab": {
      "provenance": []
    },
    "kernelspec": {
      "display_name": "Python 3",
      "name": "python3"
    },
    "language_info": {
      "codemirror_mode": {
        "name": "ipython",
        "version": 3
      },
      "file_extension": ".py",
      "mimetype": "text/x-python",
      "name": "python",
      "nbconvert_exporter": "python",
      "pygments_lexer": "ipython3",
      "version": "3.11.5"
    }
  },
  "nbformat": 4,
  "nbformat_minor": 0
}
