{
 "cells": [
  {
   "cell_type": "code",
   "execution_count": 1,
   "metadata": {},
   "outputs": [],
   "source": [
    "import pandas as pd\n",
    "import numpy as np\n",
    "import joblib\n",
    "import enchant\n",
    "import spacy\n",
    "import os"
   ]
  },
  {
   "cell_type": "code",
   "execution_count": 2,
   "metadata": {},
   "outputs": [],
   "source": [
    "data_path = \"./data\""
   ]
  },
  {
   "cell_type": "code",
   "execution_count": 3,
   "metadata": {},
   "outputs": [
    {
     "data": {
      "text/html": [
       "<div>\n",
       "<style scoped>\n",
       "    .dataframe tbody tr th:only-of-type {\n",
       "        vertical-align: middle;\n",
       "    }\n",
       "\n",
       "    .dataframe tbody tr th {\n",
       "        vertical-align: top;\n",
       "    }\n",
       "\n",
       "    .dataframe thead th {\n",
       "        text-align: right;\n",
       "    }\n",
       "</style>\n",
       "<table border=\"1\" class=\"dataframe\">\n",
       "  <thead>\n",
       "    <tr style=\"text-align: right;\">\n",
       "      <th></th>\n",
       "      <th>Address</th>\n",
       "      <th>Average_Score</th>\n",
       "      <th>Hotel_Name</th>\n",
       "      <th>Hotel_Location</th>\n",
       "      <th>Hotel_Service</th>\n",
       "      <th>Hotel_Room</th>\n",
       "      <th>Hotel_F&amp;A</th>\n",
       "      <th>Hotel_Meal</th>\n",
       "    </tr>\n",
       "  </thead>\n",
       "  <tbody>\n",
       "    <tr>\n",
       "      <th>0</th>\n",
       "      <td>163 Marsh Wall Docklands Tower Hamlets London ...</td>\n",
       "      <td>7.1</td>\n",
       "      <td>Britannia International Hotel Canary Wharf</td>\n",
       "      <td>-0.399103</td>\n",
       "      <td>-0.336323</td>\n",
       "      <td>-0.103139</td>\n",
       "      <td>0.130045</td>\n",
       "      <td>0.031390</td>\n",
       "    </tr>\n",
       "    <tr>\n",
       "      <th>1</th>\n",
       "      <td>372 Strand Westminster Borough London WC2R 0JJ UK</td>\n",
       "      <td>8.1</td>\n",
       "      <td>Strand Palace Hotel</td>\n",
       "      <td>-0.268657</td>\n",
       "      <td>-0.109453</td>\n",
       "      <td>-0.124378</td>\n",
       "      <td>-0.174129</td>\n",
       "      <td>-0.323383</td>\n",
       "    </tr>\n",
       "    <tr>\n",
       "      <th>2</th>\n",
       "      <td>Westminster Bridge Road Lambeth London SE1 7UT UK</td>\n",
       "      <td>8.7</td>\n",
       "      <td>Park Plaza Westminster Bridge London</td>\n",
       "      <td>-0.318538</td>\n",
       "      <td>0.015666</td>\n",
       "      <td>-0.263708</td>\n",
       "      <td>0.174935</td>\n",
       "      <td>0.227154</td>\n",
       "    </tr>\n",
       "    <tr>\n",
       "      <th>3</th>\n",
       "      <td>Scarsdale Place Kensington Kensington and Chel...</td>\n",
       "      <td>8.1</td>\n",
       "      <td>Copthorne Tara Hotel London Kensington</td>\n",
       "      <td>0.264925</td>\n",
       "      <td>-0.298507</td>\n",
       "      <td>-0.014925</td>\n",
       "      <td>0.130597</td>\n",
       "      <td>-0.291045</td>\n",
       "    </tr>\n",
       "    <tr>\n",
       "      <th>4</th>\n",
       "      <td>7 Pepys Street City of London London EC3N 4AF UK</td>\n",
       "      <td>8.7</td>\n",
       "      <td>DoubleTree by Hilton Hotel London Tower of London</td>\n",
       "      <td>0.336245</td>\n",
       "      <td>0.122271</td>\n",
       "      <td>-0.318777</td>\n",
       "      <td>-0.082969</td>\n",
       "      <td>-0.139738</td>\n",
       "    </tr>\n",
       "  </tbody>\n",
       "</table>\n",
       "</div>"
      ],
      "text/plain": [
       "                                             Address  Average_Score  \\\n",
       "0  163 Marsh Wall Docklands Tower Hamlets London ...            7.1   \n",
       "1  372 Strand Westminster Borough London WC2R 0JJ UK            8.1   \n",
       "2  Westminster Bridge Road Lambeth London SE1 7UT UK            8.7   \n",
       "3  Scarsdale Place Kensington Kensington and Chel...            8.1   \n",
       "4   7 Pepys Street City of London London EC3N 4AF UK            8.7   \n",
       "\n",
       "                                          Hotel_Name  Hotel_Location  \\\n",
       "0         Britannia International Hotel Canary Wharf       -0.399103   \n",
       "1                                Strand Palace Hotel       -0.268657   \n",
       "2               Park Plaza Westminster Bridge London       -0.318538   \n",
       "3             Copthorne Tara Hotel London Kensington        0.264925   \n",
       "4  DoubleTree by Hilton Hotel London Tower of London        0.336245   \n",
       "\n",
       "   Hotel_Service  Hotel_Room  Hotel_F&A  Hotel_Meal  \n",
       "0      -0.336323   -0.103139   0.130045    0.031390  \n",
       "1      -0.109453   -0.124378  -0.174129   -0.323383  \n",
       "2       0.015666   -0.263708   0.174935    0.227154  \n",
       "3      -0.298507   -0.014925   0.130597   -0.291045  \n",
       "4       0.122271   -0.318777  -0.082969   -0.139738  "
      ]
     },
     "execution_count": 3,
     "metadata": {},
     "output_type": "execute_result"
    }
   ],
   "source": [
    "hotel_feats_path = os.path.join(data_path, \"hotel_features.csv\")\n",
    "hotel_feats_df = pd.read_csv(hotel_feats_path)\n",
    "hotel_feats_df.head()"
   ]
  },
  {
   "cell_type": "code",
   "execution_count": 4,
   "metadata": {},
   "outputs": [],
   "source": [
    "spacy.prefer_gpu()\n",
    "nlp = spacy.load(\"en_core_web_sm\")\n",
    "vocab_path = os.path.join(data_path, \"aspect_nouns.csv\")\n",
    "vocab_df = pd.read_csv(vocab_path)\n",
    "aspect_nouns = dict(vocab_df.to_numpy())\n",
    "aspect_nouns\n",
    "en_dict = enchant.Dict(\"en_us\")\n",
    "model_path = \"./models/xgb_suggestion.joblib\"\n",
    "model = joblib.load(model_path)"
   ]
  },
  {
   "cell_type": "code",
   "execution_count": 5,
   "metadata": {},
   "outputs": [],
   "source": [
    "def extractNoun(sent):\n",
    "  doc = nlp(sent)\n",
    "  nouns = []\n",
    "  for token in doc:\n",
    "    if \"NN\" in token.tag_ and len(token.lemma_)>2 and en_dict.check(token.lemma_):\n",
    "      nouns.append(token.lemma_.lower())\n",
    "  return \" \".join(nouns)\n",
    "\n",
    "def review_feats_extract(review, aspect_nouns):\n",
    "  nola = len(np.unique(list(aspect_nouns.values())))\n",
    "  feat_counts = np.zeros(nola)\n",
    "  for noun in review.split(\" \"):\n",
    "    if noun in aspect_nouns:\n",
    "      feat_counts[aspect_nouns[noun]-1] += 1\n",
    "\n",
    "  denom = np.sum(feat_counts)\n",
    "  denom = denom if denom != 0 else 1\n",
    "  return list(feat_counts / denom)"
   ]
  },
  {
   "cell_type": "code",
   "execution_count": 22,
   "metadata": {},
   "outputs": [],
   "source": [
    "tags = {\n",
    "  \"trip_type\": [\"business trip\", \"leisure trip\"],\n",
    "  \"room_type\": [\"standard\", \"classic\", \"club\", \"junior\", \"superior\", \n",
    "               \"deluxe\", \"suite\", \"luxury\"],\n",
    "  \"travel_type\": [\"solo\", \"couple\", \"group\", \"family\"],\n",
    "  \"stay_time\": [1],\n",
    "  \"room_size\": [\"single\", \"double\", \"twin\", \"large\", \"king\", \"queen\"]\n",
    "}"
   ]
  },
  {
   "cell_type": "code",
   "execution_count": 36,
   "metadata": {},
   "outputs": [],
   "source": [
    "def suggest(description, user_tags, top_n= 10, hotel_feats_df= hotel_feats_df, \n",
    "            aspect_nouns= aspect_nouns, model= model):\n",
    "  nouns = extractNoun(description)\n",
    "  des_feats = review_feats_extract(nouns, aspect_nouns)\n",
    "  user_feats = np.concatenate([des_feats, user_tags])\n",
    "  customer_columns = [\"Customer_Location\", \"Customer_Service\", \"Customer_Room\", \"Customer_F&A\", \"Customer_Meal\", \n",
    "                      \"trip_type\", \"room_type\", \"travel_type\", \"stay_time\", \"room_size\"]\n",
    "  \n",
    "  suggest_df = pd.concat([hotel_feats_df, \n",
    "                        pd.DataFrame([user_feats for n in range(len(hotel_feats_df))], columns= customer_columns)], axis= 1)\n",
    "  x_predict = suggest_df.drop(columns=[\"Address\", \"Hotel_Name\"]).to_numpy()\n",
    "  suggest_df[\"predict\"] = model.predict(x_predict)\n",
    "  suggest_df = suggest_df.sort_values(by=\"predict\", ascending=False)\n",
    "  print(suggest_df.iloc[:top_n, [-1, 2, 1]].to_string(index=False))"
   ]
  },
  {
   "cell_type": "code",
   "execution_count": 38,
   "metadata": {},
   "outputs": [
    {
     "name": "stdout",
     "output_type": "stream",
     "text": [
      " predict                           Hotel_Name  Average_Score\n",
      "9.183137     Camperio House Suites Apartments            8.9\n",
      "9.172785                 Le Relais Montmartre            9.3\n",
      "9.172544                        Phileas Hotel            8.7\n",
      "9.156624                         Hotel Silver            8.4\n",
      "9.154266       Holiday Inn London Whitechapel            8.5\n",
      "9.153229                  Kingsway Hall Hotel            8.5\n",
      "9.149500                  Blakemore Hyde Park            8.5\n",
      "9.149500 Park Inn by Radisson Uno City Vienna            8.6\n",
      "9.148552      Tryp Barcelona Condal Mar Hotel            8.1\n",
      "9.147636                     Room Mate Giulia            9.3\n"
     ]
    }
   ],
   "source": [
    "userDes = \"great food and good bar\"\n",
    "userTags = [1, 2, 2, 5, 2]\n",
    "suggest(userDes, userTags)"
   ]
  },
  {
   "cell_type": "code",
   "execution_count": 39,
   "metadata": {},
   "outputs": [
    {
     "name": "stdout",
     "output_type": "stream",
     "text": [
      "Please input following tag:\n",
      "trip_type (default: business trip)\n",
      "['business trip', 'leisure trip']\n",
      "room_type (default: standard)\n",
      "['standard', 'classic', 'club', 'junior', 'superior', 'deluxe', 'suite', 'luxury']\n",
      "travel_type (default: solo)\n",
      "['solo', 'couple', 'group', 'family']\n",
      "stay_time (default: 1)\n",
      "room_size (default: single)\n",
      "['single', 'double', 'twin', 'large', 'king', 'queen']\n",
      " predict                         Hotel_Name  Average_Score\n",
      "9.349676               Le Relais Montmartre            9.3\n",
      "9.325933          City Hotel Deutschmeister            8.0\n",
      "9.325933        Hotel Mercure Milano Centro            8.4\n",
      "9.323000                    Vincci Maritimo            8.3\n",
      "9.318494      Grand Royale London Hyde Park            7.7\n",
      "9.313035        Park Grand London Hyde Park            7.5\n",
      "9.313035        Hotel Tour d Auvergne Opera            8.3\n",
      "9.312585                   Acevi Villarroel            7.8\n",
      "9.310282 Holiday Inn Amsterdam Arena Towers            8.4\n",
      "9.309271                   UNA Hotel Cusani            8.8\n"
     ]
    }
   ],
   "source": [
    "userDes = str(input(\"Description: \"))\n",
    "userTags = []\n",
    "print(\"Please input following tag:\")\n",
    "for tag, item in tags.items():\n",
    "  print(f\"{tag} (default: {item[0]})\")\n",
    "  if tag == \"stay_time\":\n",
    "    userStay = int(input(\"You stay in:\"))\n",
    "    if userStay>1:\n",
    "      userTags.append(userStay)\n",
    "    else:\n",
    "      userTags.append(1)\n",
    "    continue\n",
    "  print(item)\n",
    "  userTag = str(input(\"Your tag:\"))\n",
    "  if userTag in item:\n",
    "    idx = item.index(userTag)\n",
    "    idx = idx+1 if tag != \"trip_type\" else idx\n",
    "    userTags.append(idx)\n",
    "  else:\n",
    "    userTags.append(0)\n",
    "    \n",
    "print()\n",
    "suggest(userDes, userTags)"
   ]
  }
 ],
 "metadata": {
  "kernelspec": {
   "display_name": "base",
   "language": "python",
   "name": "python3"
  },
  "language_info": {
   "codemirror_mode": {
    "name": "ipython",
    "version": 3
   },
   "file_extension": ".py",
   "mimetype": "text/x-python",
   "name": "python",
   "nbconvert_exporter": "python",
   "pygments_lexer": "ipython3",
   "version": "3.11.5"
  }
 },
 "nbformat": 4,
 "nbformat_minor": 2
}
